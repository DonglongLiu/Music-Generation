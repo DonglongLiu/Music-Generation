{
 "cells": [
  {
   "cell_type": "code",
   "execution_count": 1,
   "metadata": {},
   "outputs": [
    {
     "data": {
      "text/plain": [
       "[(1, 4, 7), (2, 5, 8), (3, 6, 9)]"
      ]
     },
     "execution_count": 1,
     "metadata": {},
     "output_type": "execute_result"
    }
   ],
   "source": [
    "[i for i in zip([1,2,3],[4,5,6],[7,8,9])]"
   ]
  },
  {
   "cell_type": "code",
   "execution_count": 9,
   "metadata": {},
   "outputs": [
    {
     "name": "stdout",
     "output_type": "stream",
     "text": [
      "Input shape: torch.Size([1, 2, 20])\n",
      "Output shape: torch.Size([1, 1, 20])\n"
     ]
    }
   ],
   "source": [
    "import torch\n",
    "import torch.nn as nn\n",
    "\n",
    "# 假设有一个 2 行 20 列的数据\n",
    "input_data = torch.randn(1, 2, 20)\n",
    "\n",
    "# 定义一维卷积层\n",
    "input_channels = 2\n",
    "output_channels = 1  # 输出为一行\n",
    "kernel_size = 5\n",
    "stride = 1\n",
    "\n",
    "conv1d_layer = nn.Conv1d(in_channels=input_channels, out_channels=output_channels, kernel_size=kernel_size, stride=stride,padding=2)\n",
    "\n",
    "# 前向传播\n",
    "output_data = conv1d_layer(input_data)\n",
    "\n",
    "# 将输出的维度调整为一行\n",
    "output_data = output_data\n",
    "\n",
    "# 打印输入和输出的形状\n",
    "print(\"Input shape:\", input_data.shape)\n",
    "print(\"Output shape:\", output_data.shape)\n"
   ]
  },
  {
   "cell_type": "code",
   "execution_count": 10,
   "metadata": {},
   "outputs": [
    {
     "data": {
      "text/plain": [
       "tensor([930, 638, 312, 515, 155, 189, 507,  73, 214, 637, 281, 584, 725, 339,\n",
       "        276, 180, 716,  94, 326, 931])"
      ]
     },
     "execution_count": 10,
     "metadata": {},
     "output_type": "execute_result"
    },
    {
     "ename": "",
     "evalue": "",
     "output_type": "error",
     "traceback": [
      "\u001b[1;31mThe Kernel crashed while executing code in the the current cell or a previous cell. Please review the code in the cell(s) to identify a possible cause of the failure. Click <a href='https://aka.ms/vscodeJupyterKernelCrash'>here</a> for more info. View Jupyter <a href='command:jupyter.viewOutput'>log</a> for further details."
     ]
    }
   ],
   "source": [
    "torch.randint(1, 1000, (20,))"
   ]
  },
  {
   "cell_type": "code",
   "execution_count": 13,
   "metadata": {},
   "outputs": [
    {
     "name": "stdout",
     "output_type": "stream",
     "text": [
      "Parameter containing:\n",
      "tensor([[[0.1000],\n",
      "         [0.2000]],\n",
      "\n",
      "        [[0.3000],\n",
      "         [0.4000]]], requires_grad=True)\n",
      "tensor([[[0.0841, 0.0841, 0.0841],\n",
      "         [0.6667, 0.6667, 0.6667]]], grad_fn=<ConvolutionBackward0>)\n",
      "tensor([[[1., 1., 1.],\n",
      "         [2., 2., 2.]]])\n"
     ]
    }
   ],
   "source": [
    "import torch\n",
    "t = torch.tensor([[[1,1,1],[2,2,2]]], dtype=torch.float32)\n",
    "conv = torch.nn.Conv1d(kernel_size=1,in_channels=2,out_channels=2)\n",
    "conv.weight = torch.nn.Parameter(torch.FloatTensor([[[0.1],[ 0.2]],[[ 0.3],[ 0.4]]]), requires_grad = True)\n",
    "print(conv.weight)\n",
    "print(conv(t))\n",
    "print(t.transpose(-1, -2).transpose(-1, -2))"
   ]
  },
  {
   "cell_type": "code",
   "execution_count": 3,
   "metadata": {},
   "outputs": [
    {
     "data": {
      "text/plain": [
       "True"
      ]
     },
     "execution_count": 3,
     "metadata": {},
     "output_type": "execute_result"
    }
   ],
   "source": [
    "'ssadas'.isalpha()"
   ]
  },
  {
   "cell_type": "code",
   "execution_count": 9,
   "metadata": {},
   "outputs": [
    {
     "name": "stdout",
     "output_type": "stream",
     "text": [
      "Hello你好World yes世界\n",
      "Python是Great\n"
     ]
    }
   ],
   "source": [
    "import re\n",
    "\n",
    "def process_strings(input_list):\n",
    "    result_list = []\n",
    "\n",
    "    for sublist in input_list:\n",
    "        sentence = \"\"\n",
    "        for i, s in enumerate(sublist):\n",
    "            if i > 0:\n",
    "                # 如果前一个字符串是中文，当前字符串是英文，加一个空格\n",
    "                if sublist[i-1].encode(\"utf-8\").isalpha() and s.encode(\"utf-8\").isalpha():\n",
    "                    sentence += \" \"\n",
    "            sentence += s\n",
    "\n",
    "        result_list.append(sentence)\n",
    "\n",
    "    return result_list\n",
    "\n",
    "# 例子\n",
    "input_list = [[\"Hello\", \"你好\", \"World\", \"yes\", \"世界\"], [\"Python\", \"是\", \"Great\"]]\n",
    "result = process_strings(input_list)\n",
    "\n",
    "for sentence in result:\n",
    "    print(sentence)\n"
   ]
  },
  {
   "cell_type": "code",
   "execution_count": 8,
   "metadata": {},
   "outputs": [
    {
     "data": {
      "text/plain": [
       "True"
      ]
     },
     "execution_count": 8,
     "metadata": {},
     "output_type": "execute_result"
    }
   ],
   "source": [
    "\"a\".encode(\"utf-8\").isalpha()"
   ]
  },
  {
   "cell_type": "code",
   "execution_count": 41,
   "metadata": {},
   "outputs": [
    {
     "data": {
      "text/plain": [
       "torch.Size([3, 2, 3])"
      ]
     },
     "execution_count": 41,
     "metadata": {},
     "output_type": "execute_result"
    }
   ],
   "source": [
    "t = torch.randn((4,2,20))\n",
    "t = torch.tensor([[[1,2,3],[1,2,3]], [[4,5,6],[4,5,6]], [[4,5,6],[4,5,6]]],dtype=torch.float32)\n",
    "t.shape"
   ]
  },
  {
   "cell_type": "code",
   "execution_count": 54,
   "metadata": {},
   "outputs": [
    {
     "data": {
      "text/plain": [
       "(tensor([[[1., 1.],\n",
       "          [2., 2.],\n",
       "          [3., 3.]],\n",
       " \n",
       "         [[4., 4.],\n",
       "          [5., 5.],\n",
       "          [6., 6.]],\n",
       " \n",
       "         [[4., 4.],\n",
       "          [5., 5.],\n",
       "          [6., 6.]]]),\n",
       " torch.Size([3, 3, 2]))"
      ]
     },
     "execution_count": 54,
     "metadata": {},
     "output_type": "execute_result"
    }
   ],
   "source": [
    "a = t.transpose(-1,-2)\n",
    "a,a.shape"
   ]
  },
  {
   "cell_type": "code",
   "execution_count": 52,
   "metadata": {},
   "outputs": [
    {
     "data": {
      "text/plain": [
       "(Parameter containing:\n",
       " tensor([[[-0.1646],\n",
       "          [ 0.6534]],\n",
       " \n",
       "         [[ 0.1090],\n",
       "          [-0.4285]],\n",
       " \n",
       "         [[-0.3015],\n",
       "          [ 0.2379]],\n",
       " \n",
       "         [[-0.6495],\n",
       "          [-0.7012]],\n",
       " \n",
       "         [[ 0.3790],\n",
       "          [-0.2901]]], requires_grad=True),\n",
       " tensor([[[1., 2., 3.],\n",
       "          [1., 2., 3.]],\n",
       " \n",
       "         [[4., 5., 6.],\n",
       "          [4., 5., 6.]],\n",
       " \n",
       "         [[4., 5., 6.],\n",
       "          [4., 5., 6.]]]),\n",
       " torch.Size([5, 2, 1]))"
      ]
     },
     "execution_count": 52,
     "metadata": {},
     "output_type": "execute_result"
    }
   ],
   "source": [
    "conv1d_layer = torch.nn.Conv1d(in_channels=2, out_channels=5, kernel_size=1, stride=1, padding=0)\n",
    "conv1d_layer.weight,t,conv1d_layer.weight.shape\n"
   ]
  },
  {
   "cell_type": "code",
   "execution_count": 60,
   "metadata": {},
   "outputs": [
    {
     "data": {
      "text/plain": [
       "(tensor([[[-8.2144e-02, -5.3952e-01,  3.5797e-01, -1.8344e+00, -3.4910e-01],\n",
       "          [ 4.0671e-01, -8.5906e-01,  2.9433e-01, -3.1851e+00, -2.6020e-01],\n",
       "          [ 8.9556e-01, -1.1786e+00,  2.3069e-01, -4.5358e+00, -1.7130e-01]],\n",
       " \n",
       "         [[ 1.3844e+00, -1.4981e+00,  1.6705e-01, -5.8865e+00, -8.2404e-02],\n",
       "          [ 1.8733e+00, -1.8177e+00,  1.0341e-01, -7.2372e+00,  6.4942e-03],\n",
       "          [ 2.3621e+00, -2.1372e+00,  3.9772e-02, -8.5879e+00,  9.5392e-02]],\n",
       " \n",
       "         [[ 1.3844e+00, -1.4981e+00,  1.6705e-01, -5.8865e+00, -8.2404e-02],\n",
       "          [ 1.8733e+00, -1.8177e+00,  1.0341e-01, -7.2372e+00,  6.4942e-03],\n",
       "          [ 2.3621e+00, -2.1372e+00,  3.9772e-02, -8.5879e+00,  9.5392e-02]]],\n",
       "        grad_fn=<TransposeBackward0>),\n",
       " tensor([[[-8.2144e-02,  4.0671e-01,  8.9556e-01],\n",
       "          [-5.3952e-01, -8.5906e-01, -1.1786e+00],\n",
       "          [ 3.5797e-01,  2.9433e-01,  2.3069e-01],\n",
       "          [-1.8344e+00, -3.1851e+00, -4.5358e+00],\n",
       "          [-3.4910e-01, -2.6020e-01, -1.7130e-01]],\n",
       " \n",
       "         [[ 1.3844e+00,  1.8733e+00,  2.3621e+00],\n",
       "          [-1.4981e+00, -1.8177e+00, -2.1372e+00],\n",
       "          [ 1.6705e-01,  1.0341e-01,  3.9772e-02],\n",
       "          [-5.8865e+00, -7.2372e+00, -8.5879e+00],\n",
       "          [-8.2404e-02,  6.4942e-03,  9.5392e-02]],\n",
       " \n",
       "         [[ 1.3844e+00,  1.8733e+00,  2.3621e+00],\n",
       "          [-1.4981e+00, -1.8177e+00, -2.1372e+00],\n",
       "          [ 1.6705e-01,  1.0341e-01,  3.9772e-02],\n",
       "          [-5.8865e+00, -7.2372e+00, -8.5879e+00],\n",
       "          [-8.2404e-02,  6.4942e-03,  9.5392e-02]]],\n",
       "        grad_fn=<ConvolutionBackward0>),\n",
       " torch.Size([3, 5, 3]))"
      ]
     },
     "execution_count": 60,
     "metadata": {},
     "output_type": "execute_result"
    }
   ],
   "source": [
    "conv1d_layer(t).transpose(-1,-2),conv1d_layer(t),conv1d_layer(t).shape"
   ]
  },
  {
   "cell_type": "code",
   "execution_count": 80,
   "metadata": {},
   "outputs": [
    {
     "data": {
      "text/plain": [
       "(tensor([[[ 0.7224,  0.1146, -0.9273, -2.0567,  2.1017, -0.9772, -2.1439,\n",
       "           -1.7455,  0.3757,  0.4538,  0.5992,  0.2861, -1.1652, -1.9026,\n",
       "            1.8405,  0.3783,  0.9165, -0.4001]],\n",
       " \n",
       "         [[ 0.9042,  0.8730, -3.3975, -5.3596,  4.4408, -0.7968, -5.7718,\n",
       "           -3.0951,  1.6366,  1.4351,  0.5190, -0.9379, -2.2598, -5.0389,\n",
       "            2.5155,  0.8887,  2.9455, -1.6438]],\n",
       " \n",
       "         [[ 0.9042,  0.8730, -3.3975, -5.3596,  4.4408, -0.7968, -5.7718,\n",
       "           -3.0951,  1.6366,  1.4351,  0.5190, -0.9379, -2.2598, -5.0389,\n",
       "            2.5155,  0.8887,  2.9455, -1.6438]]], grad_fn=<SplitBackward0>),\n",
       " tensor([[[ 0.7224,  0.1146, -0.9273, -2.0567,  2.1017, -0.9772, -2.1439,\n",
       "           -1.7455,  0.3757,  0.4538,  0.5992,  0.2861, -1.1652, -1.9026,\n",
       "            1.8405,  0.3783,  0.9165, -0.4001]],\n",
       " \n",
       "         [[ 0.9042,  0.8730, -3.3975, -5.3596,  4.4408, -0.7968, -5.7718,\n",
       "           -3.0951,  1.6366,  1.4351,  0.5190, -0.9379, -2.2598, -5.0389,\n",
       "            2.5155,  0.8887,  2.9455, -1.6438]],\n",
       " \n",
       "         [[ 0.9042,  0.8730, -3.3975, -5.3596,  4.4408, -0.7968, -5.7718,\n",
       "           -3.0951,  1.6366,  1.4351,  0.5190, -0.9379, -2.2598, -5.0389,\n",
       "            2.5155,  0.8887,  2.9455, -1.6438]]], grad_fn=<SplitBackward0>))"
      ]
     },
     "execution_count": 80,
     "metadata": {},
     "output_type": "execute_result"
    }
   ],
   "source": [
    "t = torch.tensor([[[1,2,3],[1,2,3]], [[4,5,6],[4,5,6]], [[4,5,6],[4,5,6]]],dtype=torch.float32)\n",
    "_6 = torch.nn.Linear(3, 18)(t)\n",
    "_6.chunk(3,dim=1)\n",
    "# t.chunk(3,dim=1)"
   ]
  },
  {
   "cell_type": "code",
   "execution_count": 75,
   "metadata": {},
   "outputs": [
    {
     "data": {
      "text/plain": [
       "tensor([[[2., 3., 4.],\n",
       "         [2., 3., 4.]],\n",
       "\n",
       "        [[1., 1., 1.],\n",
       "         [1., 1., 1.]],\n",
       "\n",
       "        [[1., 1., 1.],\n",
       "         [1., 1., 1.]]])"
      ]
     },
     "execution_count": 75,
     "metadata": {},
     "output_type": "execute_result"
    }
   ],
   "source": [
    "time = torch.tensor([[[1,1,1]], [[1,1,1]], [[1,1,1]]],dtype=torch.float32)\n",
    "t + time"
   ]
  },
  {
   "cell_type": "code",
   "execution_count": 74,
   "metadata": {},
   "outputs": [
    {
     "name": "stdout",
     "output_type": "stream",
     "text": [
      "torch.Size([3, 2, 3])\n"
     ]
    },
    {
     "data": {
      "text/plain": [
       "(tensor([[[[1., 2., 3.],\n",
       "           [1., 2., 3.]],\n",
       " \n",
       "          [[0., 0., 0.],\n",
       "           [0., 0., 0.]],\n",
       " \n",
       "          [[0., 0., 0.],\n",
       "           [0., 0., 0.]]],\n",
       " \n",
       " \n",
       "         [[[1., 2., 3.],\n",
       "           [1., 2., 3.]],\n",
       " \n",
       "          [[0., 0., 0.],\n",
       "           [0., 0., 0.]],\n",
       " \n",
       "          [[0., 0., 0.],\n",
       "           [0., 0., 0.]]]], device='cuda:0'),\n",
       " torch.Size([2, 3, 2, 3]))"
      ]
     },
     "execution_count": 74,
     "metadata": {},
     "output_type": "execute_result"
    }
   ],
   "source": [
    "batch_outputs = []\n",
    "print(t.shape)\n",
    "batch_outputs.append(t)\n",
    "batch_outputs.append(t)\n",
    "torch.stack(batch_outputs).cuda(),torch.stack(batch_outputs).shape"
   ]
  },
  {
   "cell_type": "code",
   "execution_count": 92,
   "metadata": {},
   "outputs": [
    {
     "data": {
      "text/plain": [
       "{'alpha_t': tensor([0.9980, 0.9978, 0.9977, 0.9975, 0.9973, 0.9972, 0.9970]),\n",
       " 'oneover_sqrta': tensor([1.0010, 1.0011, 1.0012, 1.0013, 1.0013, 1.0014, 1.0015]),\n",
       " 'sqrt_beta_t': tensor([0.0447, 0.0465, 0.0483, 0.0500, 0.0516, 0.0532, 0.0548]),\n",
       " 'alphabar_t': tensor([0.9980, 0.9958, 0.9935, 0.9910, 0.9884, 0.9856, 0.9826]),\n",
       " 'sqrtab': tensor([0.9990, 0.9979, 0.9968, 0.9955, 0.9942, 0.9928, 0.9913]),\n",
       " 'sqrtmab': tensor([0.0447, 0.0645, 0.0805, 0.0947, 0.1078, 0.1201, 0.1318]),\n",
       " 'mab_over_sqrtmab': tensor([0.0447, 0.0336, 0.0290, 0.0264, 0.0247, 0.0236, 0.0228]),\n",
       " 'test': tensor([0, 1, 2, 3, 4, 5, 6])}"
      ]
     },
     "execution_count": 92,
     "metadata": {},
     "output_type": "execute_result"
    }
   ],
   "source": [
    "def ddpm_schedules(beta1, beta2, T):\n",
    "    \"\"\"\n",
    "    Returns pre-computed schedules for DDPM sampling, training process.\n",
    "    \"\"\"\n",
    "    assert beta1 < beta2 < 1.0, \"beta1 and beta2 must be in (0, 1)\"\n",
    "\n",
    "    beta_t = (beta2 - beta1) * torch.arange(0, T + 1, dtype=torch.float32) / T + beta1\n",
    "    sqrt_beta_t = torch.sqrt(beta_t)\n",
    "    alpha_t = 1 - beta_t\n",
    "    log_alpha_t = torch.log(alpha_t)\n",
    "    alphabar_t = torch.cumsum(log_alpha_t, dim=0).exp()\n",
    "\n",
    "    sqrtab = torch.sqrt(alphabar_t)\n",
    "    oneover_sqrta = 1 / torch.sqrt(alpha_t)\n",
    "\n",
    "    sqrtmab = torch.sqrt(1 - alphabar_t)\n",
    "    mab_over_sqrtmab_inv = (1 - alpha_t) / sqrtmab\n",
    "    test = torch.tensor([i for i in range(T + 1)])\n",
    "    return {\n",
    "        \"alpha_t\": alpha_t,  # \\alpha_t\n",
    "        \"oneover_sqrta\": oneover_sqrta,  # 1/\\sqrt{\\alpha_t}\n",
    "        \"sqrt_beta_t\": sqrt_beta_t,  # \\sqrt{\\beta_t}\n",
    "        \"alphabar_t\": alphabar_t,  # \\bar{\\alpha_t}\n",
    "        \"sqrtab\": sqrtab,  # \\sqrt{\\bar{\\alpha_t}}\n",
    "        \"sqrtmab\": sqrtmab,  # \\sqrt{1-\\bar{\\alpha_t}}\n",
    "        \"mab_over_sqrtmab\": mab_over_sqrtmab_inv,  # (1-\\alpha_t)/\\sqrt{1-\\bar{\\alpha_t}}\n",
    "        \"test\": test\n",
    "    }\n",
    "ddpm_schedules(0.002,0.003,6)"
   ]
  },
  {
   "cell_type": "code",
   "execution_count": 99,
   "metadata": {},
   "outputs": [
    {
     "name": "stdout",
     "output_type": "stream",
     "text": [
      "torch.Size([1, 2, 3]) torch.Size([3, 1, 1])\n",
      "Buffer Value: tensor([[[1]],\n",
      "\n",
      "        [[3]],\n",
      "\n",
      "        [[5]]])\n"
     ]
    },
    {
     "data": {
      "text/plain": [
       "(tensor([[[ 1,  2,  3],\n",
       "          [ 1,  2,  3]],\n",
       " \n",
       "         [[ 3,  6,  9],\n",
       "          [ 3,  6,  9]],\n",
       " \n",
       "         [[ 5, 10, 15],\n",
       "          [ 5, 10, 15]]]),\n",
       " torch.Size([3, 2, 3]))"
      ]
     },
     "execution_count": 99,
     "metadata": {},
     "output_type": "execute_result"
    }
   ],
   "source": [
    "import torch.nn as nn\n",
    "\n",
    "class MyModel(nn.Module):\n",
    "    def __init__(self):\n",
    "        super(MyModel, self).__init__()\n",
    "        \n",
    "        # 创建一个张量作为缓冲区，并注册为模型的一部分\n",
    "        for k, v in ddpm_schedules(0.002, 0.003, 7).items():\n",
    "            self.register_buffer(k, v)\n",
    "\n",
    "# 创建模型实例\n",
    "model = MyModel()\n",
    "\n",
    "# 访问缓冲区\n",
    "_ts = torch.tensor([1,3,5])\n",
    "t = torch.tensor([[[1,2,3], [1,2,3]]])\n",
    "buffer_value = model.test[_ts, None, None]\n",
    "print(t.shape,buffer_value.shape)\n",
    "print(\"Buffer Value:\", buffer_value)\n",
    "\n",
    "buffer_value * t,(buffer_value * t).shape\n"
   ]
  },
  {
   "cell_type": "code",
   "execution_count": 6,
   "metadata": {},
   "outputs": [
    {
     "name": "stdout",
     "output_type": "stream",
     "text": [
      "tensor([[[1, 2],\n",
      "         [1, 2],\n",
      "         [1, 2],\n",
      "         [1, 2],\n",
      "         [1, 2]],\n",
      "\n",
      "        [[3, 4],\n",
      "         [3, 4],\n",
      "         [3, 4],\n",
      "         [3, 4],\n",
      "         [3, 4]]])\n"
     ]
    },
    {
     "data": {
      "text/plain": [
       "tensor([[[1, 2],\n",
       "         [1, 2],\n",
       "         [1, 2],\n",
       "         [1, 2],\n",
       "         [1, 2]],\n",
       "\n",
       "        [[3, 4],\n",
       "         [3, 4],\n",
       "         [3, 4],\n",
       "         [3, 4],\n",
       "         [3, 4]]])"
      ]
     },
     "execution_count": 6,
     "metadata": {},
     "output_type": "execute_result"
    }
   ],
   "source": [
    "import torch\n",
    "\n",
    "t = torch.tensor([[1,2], [3,4]]).view(2, -1, 2).repeat(1, 5, 1)\n",
    "print(t)\n",
    "t.squeeze(0)"
   ]
  },
  {
   "cell_type": "code",
   "execution_count": 14,
   "metadata": {},
   "outputs": [
    {
     "name": "stdout",
     "output_type": "stream",
     "text": [
      "原始数据的均值: tensor([-0.0289, -0.0131])\n",
      "原始数据的标准差: tensor([0.9882, 0.9788])\n",
      "标准化后数据的均值: tensor([-1.0578, -1.0262])\n",
      "标准化后数据的标准差: tensor([1.9764, 1.9576])\n"
     ]
    }
   ],
   "source": [
    "import torch\n",
    "\n",
    "# 假设 data 是你的数据，一个 PyTorch 张量，形状为 (50, 20, 2)\n",
    "data = torch.randn((50, 20, 2))\n",
    "\n",
    "# 计算原始数据的均值和标准差\n",
    "original_mean = data.mean(dim=(0, 1))\n",
    "original_std = data.std(dim=(0, 1))\n",
    "\n",
    "# 定义均值和标准差，可以根据实际情况设置\n",
    "mean = torch.tensor([0.5, 0.5])\n",
    "std = torch.tensor([0.5, 0.5])\n",
    "\n",
    "# 使用标准化公式进行标准化\n",
    "normalized_data = (data - mean) / std\n",
    "\n",
    "# 计算标准化后数据的均值和标准差\n",
    "normalized_mean = normalized_data.mean(dim=(0, 1))\n",
    "normalized_std = normalized_data.std(dim=(0, 1))\n",
    "\n",
    "print(\"原始数据的均值:\", original_mean)\n",
    "print(\"原始数据的标准差:\", original_std)\n",
    "\n",
    "print(\"标准化后数据的均值:\", normalized_mean)\n",
    "print(\"标准化后数据的标准差:\", normalized_std)\n"
   ]
  },
  {
   "cell_type": "code",
   "execution_count": 6,
   "metadata": {},
   "outputs": [
    {
     "data": {
      "application/vnd.jupyter.widget-view+json": {
       "model_id": "1cedadc5f2e142aca3170ce48435ad7f",
       "version_major": 2,
       "version_minor": 0
      },
      "text/plain": [
       "model_index.json:   0%|          | 0.00/541 [00:00<?, ?B/s]"
      ]
     },
     "metadata": {},
     "output_type": "display_data"
    },
    {
     "name": "stderr",
     "output_type": "stream",
     "text": [
      "d:\\Anaconda3\\envs\\pytorch\\lib\\site-packages\\huggingface_hub\\file_download.py:147: UserWarning: `huggingface_hub` cache-system uses symlinks by default to efficiently store duplicated files but your machine does not support them in C:\\Users\\lenovo\\.cache\\huggingface\\hub. Caching files will still work but in a degraded version that might require more space on your disk. This warning can be disabled by setting the `HF_HUB_DISABLE_SYMLINKS_WARNING` environment variable. For more details, see https://huggingface.co/docs/huggingface_hub/how-to-cache#limitations.\n",
      "To support symlinks on Windows, you either need to activate Developer Mode or to run Python as an administrator. In order to see activate developer mode, see this article: https://docs.microsoft.com/en-us/windows/apps/get-started/enable-your-device-for-development\n",
      "  warnings.warn(message)\n"
     ]
    },
    {
     "data": {
      "application/vnd.jupyter.widget-view+json": {
       "model_id": "b4bb2d01c48c41b7b2042c8c5909c00b",
       "version_major": 2,
       "version_minor": 0
      },
      "text/plain": [
       "Fetching 15 files:   0%|          | 0/15 [00:00<?, ?it/s]"
      ]
     },
     "metadata": {},
     "output_type": "display_data"
    },
    {
     "data": {
      "application/vnd.jupyter.widget-view+json": {
       "model_id": "0ee4d8821629409ab83e2f0737e2f01e",
       "version_major": 2,
       "version_minor": 0
      },
      "text/plain": [
       "(…)ature_extractor/preprocessor_config.json:   0%|          | 0.00/342 [00:00<?, ?B/s]"
      ]
     },
     "metadata": {},
     "output_type": "display_data"
    },
    {
     "data": {
      "application/vnd.jupyter.widget-view+json": {
       "model_id": "c5d1543c99ef41da90f571c9306e5304",
       "version_major": 2,
       "version_minor": 0
      },
      "text/plain": [
       "text_encoder/config.json:   0%|          | 0.00/617 [00:00<?, ?B/s]"
      ]
     },
     "metadata": {},
     "output_type": "display_data"
    },
    {
     "data": {
      "application/vnd.jupyter.widget-view+json": {
       "model_id": "f5785ccdb0784b61a261f08f4eb8ab70",
       "version_major": 2,
       "version_minor": 0
      },
      "text/plain": [
       "tokenizer/special_tokens_map.json:   0%|          | 0.00/472 [00:00<?, ?B/s]"
      ]
     },
     "metadata": {},
     "output_type": "display_data"
    },
    {
     "data": {
      "application/vnd.jupyter.widget-view+json": {
       "model_id": "f20ab0a78feb44399208ed3820702c23",
       "version_major": 2,
       "version_minor": 0
      },
      "text/plain": [
       "safety_checker/config.json:   0%|          | 0.00/4.72k [00:00<?, ?B/s]"
      ]
     },
     "metadata": {},
     "output_type": "display_data"
    },
    {
     "data": {
      "application/vnd.jupyter.widget-view+json": {
       "model_id": "32a5a267e61045ab96ba8b6ad0024c9e",
       "version_major": 2,
       "version_minor": 0
      },
      "text/plain": [
       "scheduler/scheduler_config.json:   0%|          | 0.00/308 [00:00<?, ?B/s]"
      ]
     },
     "metadata": {},
     "output_type": "display_data"
    },
    {
     "data": {
      "application/vnd.jupyter.widget-view+json": {
       "model_id": "17b137b73e754064825af18e186fef48",
       "version_major": 2,
       "version_minor": 0
      },
      "text/plain": [
       "tokenizer/merges.txt:   0%|          | 0.00/525k [00:00<?, ?B/s]"
      ]
     },
     "metadata": {},
     "output_type": "display_data"
    },
    {
     "name": "stderr",
     "output_type": "stream",
     "text": [
      "d:\\Anaconda3\\envs\\pytorch\\lib\\site-packages\\huggingface_hub\\file_download.py:992: UserWarning: Not enough free disk space to download the file. The expected file size is: 3438.17 MB. The target location C:\\Users\\lenovo\\.cache\\huggingface\\hub only has 1792.57 MB free disk space.\n",
      "  warnings.warn(\n",
      "d:\\Anaconda3\\envs\\pytorch\\lib\\site-packages\\huggingface_hub\\file_download.py:992: UserWarning: Not enough free disk space to download the file. The expected file size is: 3438.17 MB. The target location C:\\Users\\lenovo\\.cache\\huggingface\\hub\\models--runwayml--stable-diffusion-v1-5\\blobs only has 1792.57 MB free disk space.\n",
      "  warnings.warn(\n"
     ]
    },
    {
     "data": {
      "application/vnd.jupyter.widget-view+json": {
       "model_id": "5f1f6e05f9f2404bb7979abf3e4b6b81",
       "version_major": 2,
       "version_minor": 0
      },
      "text/plain": [
       "model.safetensors:   0%|          | 0.00/1.22G [00:00<?, ?B/s]"
      ]
     },
     "metadata": {},
     "output_type": "display_data"
    },
    {
     "data": {
      "application/vnd.jupyter.widget-view+json": {
       "model_id": "e98533f0f24b4dc39cea0c0dd140e55d",
       "version_major": 2,
       "version_minor": 0
      },
      "text/plain": [
       "model.safetensors:   0%|          | 0.00/492M [00:00<?, ?B/s]"
      ]
     },
     "metadata": {},
     "output_type": "display_data"
    },
    {
     "data": {
      "application/vnd.jupyter.widget-view+json": {
       "model_id": "f5ad63a19e084f17bf226f11c90f0d81",
       "version_major": 2,
       "version_minor": 0
      },
      "text/plain": [
       "tokenizer/vocab.json:   0%|          | 0.00/1.06M [00:00<?, ?B/s]"
      ]
     },
     "metadata": {},
     "output_type": "display_data"
    },
    {
     "data": {
      "application/vnd.jupyter.widget-view+json": {
       "model_id": "8f53439a25c64ef48415105bdc788205",
       "version_major": 2,
       "version_minor": 0
      },
      "text/plain": [
       "unet/config.json:   0%|          | 0.00/743 [00:00<?, ?B/s]"
      ]
     },
     "metadata": {},
     "output_type": "display_data"
    },
    {
     "data": {
      "application/vnd.jupyter.widget-view+json": {
       "model_id": "b25fce9675f243dcb61b39aab7aa06e9",
       "version_major": 2,
       "version_minor": 0
      },
      "text/plain": [
       "tokenizer/tokenizer_config.json:   0%|          | 0.00/806 [00:00<?, ?B/s]"
      ]
     },
     "metadata": {},
     "output_type": "display_data"
    },
    {
     "data": {
      "application/vnd.jupyter.widget-view+json": {
       "model_id": "1e7b7f423d9c4cc6a4e88fcb7839648a",
       "version_major": 2,
       "version_minor": 0
      },
      "text/plain": [
       "vae/config.json:   0%|          | 0.00/547 [00:00<?, ?B/s]"
      ]
     },
     "metadata": {},
     "output_type": "display_data"
    },
    {
     "data": {
      "application/vnd.jupyter.widget-view+json": {
       "model_id": "bd1979a9a4a545d4b1a8758bc97ac76e",
       "version_major": 2,
       "version_minor": 0
      },
      "text/plain": [
       "diffusion_pytorch_model.safetensors:   0%|          | 0.00/3.44G [00:00<?, ?B/s]"
      ]
     },
     "metadata": {},
     "output_type": "display_data"
    },
    {
     "data": {
      "application/vnd.jupyter.widget-view+json": {
       "model_id": "c4f9fe41ad18435ba4de63effc7985a9",
       "version_major": 2,
       "version_minor": 0
      },
      "text/plain": [
       "diffusion_pytorch_model.safetensors:   0%|          | 0.00/335M [00:00<?, ?B/s]"
      ]
     },
     "metadata": {},
     "output_type": "display_data"
    },
    {
     "ename": "OSError",
     "evalue": "[Errno 28] No space left on device",
     "output_type": "error",
     "traceback": [
      "\u001b[1;31m---------------------------------------------------------------------------\u001b[0m",
      "\u001b[1;31mOSError\u001b[0m                                   Traceback (most recent call last)",
      "\u001b[1;32mf:\\研究生论文\\Music Generation\\code\\v1\\test.ipynb Cell 19\u001b[0m line \u001b[0;36m5\n\u001b[0;32m      <a href='vscode-notebook-cell:/f%3A/%E7%A0%94%E7%A9%B6%E7%94%9F%E8%AE%BA%E6%96%87/Music%20Generation/code/v1/test.ipynb#X24sZmlsZQ%3D%3D?line=1'>2</a>\u001b[0m \u001b[39mimport\u001b[39;00m \u001b[39mtorch\u001b[39;00m\n\u001b[0;32m      <a href='vscode-notebook-cell:/f%3A/%E7%A0%94%E7%A9%B6%E7%94%9F%E8%AE%BA%E6%96%87/Music%20Generation/code/v1/test.ipynb#X24sZmlsZQ%3D%3D?line=3'>4</a>\u001b[0m model_id \u001b[39m=\u001b[39m \u001b[39m\"\u001b[39m\u001b[39mrunwayml/stable-diffusion-v1-5\u001b[39m\u001b[39m\"\u001b[39m\n\u001b[1;32m----> <a href='vscode-notebook-cell:/f%3A/%E7%A0%94%E7%A9%B6%E7%94%9F%E8%AE%BA%E6%96%87/Music%20Generation/code/v1/test.ipynb#X24sZmlsZQ%3D%3D?line=4'>5</a>\u001b[0m pipe \u001b[39m=\u001b[39m StableDiffusionPipeline\u001b[39m.\u001b[39;49mfrom_pretrained(model_id, torch_dtype\u001b[39m=\u001b[39;49mtorch\u001b[39m.\u001b[39;49mfloat16)\n\u001b[0;32m      <a href='vscode-notebook-cell:/f%3A/%E7%A0%94%E7%A9%B6%E7%94%9F%E8%AE%BA%E6%96%87/Music%20Generation/code/v1/test.ipynb#X24sZmlsZQ%3D%3D?line=5'>6</a>\u001b[0m pipe \u001b[39m=\u001b[39m pipe\u001b[39m.\u001b[39mto(\u001b[39m\"\u001b[39m\u001b[39mcuda\u001b[39m\u001b[39m\"\u001b[39m)\n\u001b[0;32m      <a href='vscode-notebook-cell:/f%3A/%E7%A0%94%E7%A9%B6%E7%94%9F%E8%AE%BA%E6%96%87/Music%20Generation/code/v1/test.ipynb#X24sZmlsZQ%3D%3D?line=7'>8</a>\u001b[0m prompt \u001b[39m=\u001b[39m \u001b[39m\"\u001b[39m\u001b[39ma photo of an astronaut riding a horse on mars\u001b[39m\u001b[39m\"\u001b[39m\n",
      "File \u001b[1;32md:\\Anaconda3\\envs\\pytorch\\lib\\site-packages\\diffusers\\pipelines\\pipeline_utils.py:1090\u001b[0m, in \u001b[0;36mDiffusionPipeline.from_pretrained\u001b[1;34m(cls, pretrained_model_name_or_path, **kwargs)\u001b[0m\n\u001b[0;32m   1085\u001b[0m     \u001b[39mif\u001b[39;00m pretrained_model_name_or_path\u001b[39m.\u001b[39mcount(\u001b[39m\"\u001b[39m\u001b[39m/\u001b[39m\u001b[39m\"\u001b[39m) \u001b[39m>\u001b[39m \u001b[39m1\u001b[39m:\n\u001b[0;32m   1086\u001b[0m         \u001b[39mraise\u001b[39;00m \u001b[39mValueError\u001b[39;00m(\n\u001b[0;32m   1087\u001b[0m             \u001b[39mf\u001b[39m\u001b[39m'\u001b[39m\u001b[39mThe provided pretrained_model_name_or_path \u001b[39m\u001b[39m\"\u001b[39m\u001b[39m{\u001b[39;00mpretrained_model_name_or_path\u001b[39m}\u001b[39;00m\u001b[39m\"\u001b[39m\u001b[39m'\u001b[39m\n\u001b[0;32m   1088\u001b[0m             \u001b[39m\"\u001b[39m\u001b[39m is neither a valid local path nor a valid repo id. Please check the parameter.\u001b[39m\u001b[39m\"\u001b[39m\n\u001b[0;32m   1089\u001b[0m         )\n\u001b[1;32m-> 1090\u001b[0m     cached_folder \u001b[39m=\u001b[39m \u001b[39mcls\u001b[39m\u001b[39m.\u001b[39mdownload(\n\u001b[0;32m   1091\u001b[0m         pretrained_model_name_or_path,\n\u001b[0;32m   1092\u001b[0m         cache_dir\u001b[39m=\u001b[39mcache_dir,\n\u001b[0;32m   1093\u001b[0m         resume_download\u001b[39m=\u001b[39mresume_download,\n\u001b[0;32m   1094\u001b[0m         force_download\u001b[39m=\u001b[39mforce_download,\n\u001b[0;32m   1095\u001b[0m         proxies\u001b[39m=\u001b[39mproxies,\n\u001b[0;32m   1096\u001b[0m         local_files_only\u001b[39m=\u001b[39mlocal_files_only,\n\u001b[0;32m   1097\u001b[0m         use_auth_token\u001b[39m=\u001b[39muse_auth_token,\n\u001b[0;32m   1098\u001b[0m         revision\u001b[39m=\u001b[39mrevision,\n\u001b[0;32m   1099\u001b[0m         from_flax\u001b[39m=\u001b[39mfrom_flax,\n\u001b[0;32m   1100\u001b[0m         use_safetensors\u001b[39m=\u001b[39muse_safetensors,\n\u001b[0;32m   1101\u001b[0m         use_onnx\u001b[39m=\u001b[39muse_onnx,\n\u001b[0;32m   1102\u001b[0m         custom_pipeline\u001b[39m=\u001b[39mcustom_pipeline,\n\u001b[0;32m   1103\u001b[0m         custom_revision\u001b[39m=\u001b[39mcustom_revision,\n\u001b[0;32m   1104\u001b[0m         variant\u001b[39m=\u001b[39mvariant,\n\u001b[0;32m   1105\u001b[0m         load_connected_pipeline\u001b[39m=\u001b[39mload_connected_pipeline,\n\u001b[0;32m   1106\u001b[0m         \u001b[39m*\u001b[39m\u001b[39m*\u001b[39mkwargs,\n\u001b[0;32m   1107\u001b[0m     )\n\u001b[0;32m   1108\u001b[0m \u001b[39melse\u001b[39;00m:\n\u001b[0;32m   1109\u001b[0m     cached_folder \u001b[39m=\u001b[39m pretrained_model_name_or_path\n",
      "File \u001b[1;32md:\\Anaconda3\\envs\\pytorch\\lib\\site-packages\\diffusers\\pipelines\\pipeline_utils.py:1856\u001b[0m, in \u001b[0;36mDiffusionPipeline.download\u001b[1;34m(cls, pretrained_model_name, **kwargs)\u001b[0m\n\u001b[0;32m   1854\u001b[0m \u001b[39m# download all allow_patterns - ignore_patterns\u001b[39;00m\n\u001b[0;32m   1855\u001b[0m \u001b[39mtry\u001b[39;00m:\n\u001b[1;32m-> 1856\u001b[0m     cached_folder \u001b[39m=\u001b[39m snapshot_download(\n\u001b[0;32m   1857\u001b[0m         pretrained_model_name,\n\u001b[0;32m   1858\u001b[0m         cache_dir\u001b[39m=\u001b[39;49mcache_dir,\n\u001b[0;32m   1859\u001b[0m         resume_download\u001b[39m=\u001b[39;49mresume_download,\n\u001b[0;32m   1860\u001b[0m         proxies\u001b[39m=\u001b[39;49mproxies,\n\u001b[0;32m   1861\u001b[0m         local_files_only\u001b[39m=\u001b[39;49mlocal_files_only,\n\u001b[0;32m   1862\u001b[0m         use_auth_token\u001b[39m=\u001b[39;49muse_auth_token,\n\u001b[0;32m   1863\u001b[0m         revision\u001b[39m=\u001b[39;49mrevision,\n\u001b[0;32m   1864\u001b[0m         allow_patterns\u001b[39m=\u001b[39;49mallow_patterns,\n\u001b[0;32m   1865\u001b[0m         ignore_patterns\u001b[39m=\u001b[39;49mignore_patterns,\n\u001b[0;32m   1866\u001b[0m         user_agent\u001b[39m=\u001b[39;49muser_agent,\n\u001b[0;32m   1867\u001b[0m     )\n\u001b[0;32m   1869\u001b[0m     \u001b[39m# retrieve pipeline class from local file\u001b[39;00m\n\u001b[0;32m   1870\u001b[0m     cls_name \u001b[39m=\u001b[39m \u001b[39mcls\u001b[39m\u001b[39m.\u001b[39mload_config(os\u001b[39m.\u001b[39mpath\u001b[39m.\u001b[39mjoin(cached_folder, \u001b[39m\"\u001b[39m\u001b[39mmodel_index.json\u001b[39m\u001b[39m\"\u001b[39m))\u001b[39m.\u001b[39mget(\u001b[39m\"\u001b[39m\u001b[39m_class_name\u001b[39m\u001b[39m\"\u001b[39m, \u001b[39mNone\u001b[39;00m)\n",
      "File \u001b[1;32md:\\Anaconda3\\envs\\pytorch\\lib\\site-packages\\huggingface_hub\\utils\\_validators.py:118\u001b[0m, in \u001b[0;36mvalidate_hf_hub_args.<locals>._inner_fn\u001b[1;34m(*args, **kwargs)\u001b[0m\n\u001b[0;32m    115\u001b[0m \u001b[39mif\u001b[39;00m check_use_auth_token:\n\u001b[0;32m    116\u001b[0m     kwargs \u001b[39m=\u001b[39m smoothly_deprecate_use_auth_token(fn_name\u001b[39m=\u001b[39mfn\u001b[39m.\u001b[39m\u001b[39m__name__\u001b[39m, has_token\u001b[39m=\u001b[39mhas_token, kwargs\u001b[39m=\u001b[39mkwargs)\n\u001b[1;32m--> 118\u001b[0m \u001b[39mreturn\u001b[39;00m fn(\u001b[39m*\u001b[39margs, \u001b[39m*\u001b[39m\u001b[39m*\u001b[39mkwargs)\n",
      "File \u001b[1;32md:\\Anaconda3\\envs\\pytorch\\lib\\site-packages\\huggingface_hub\\_snapshot_download.py:238\u001b[0m, in \u001b[0;36msnapshot_download\u001b[1;34m(repo_id, repo_type, revision, cache_dir, local_dir, local_dir_use_symlinks, library_name, library_version, user_agent, proxies, etag_timeout, resume_download, force_download, token, local_files_only, allow_patterns, ignore_patterns, max_workers, tqdm_class, endpoint)\u001b[0m\n\u001b[0;32m    236\u001b[0m         _inner_hf_hub_download(file)\n\u001b[0;32m    237\u001b[0m \u001b[39melse\u001b[39;00m:\n\u001b[1;32m--> 238\u001b[0m     thread_map(\n\u001b[0;32m    239\u001b[0m         _inner_hf_hub_download,\n\u001b[0;32m    240\u001b[0m         filtered_repo_files,\n\u001b[0;32m    241\u001b[0m         desc\u001b[39m=\u001b[39;49m\u001b[39mf\u001b[39;49m\u001b[39m\"\u001b[39;49m\u001b[39mFetching \u001b[39;49m\u001b[39m{\u001b[39;49;00m\u001b[39mlen\u001b[39;49m(filtered_repo_files)\u001b[39m}\u001b[39;49;00m\u001b[39m files\u001b[39;49m\u001b[39m\"\u001b[39;49m,\n\u001b[0;32m    242\u001b[0m         max_workers\u001b[39m=\u001b[39;49mmax_workers,\n\u001b[0;32m    243\u001b[0m         \u001b[39m# User can use its own tqdm class or the default one from `huggingface_hub.utils`\u001b[39;49;00m\n\u001b[0;32m    244\u001b[0m         tqdm_class\u001b[39m=\u001b[39;49mtqdm_class \u001b[39mor\u001b[39;49;00m hf_tqdm,\n\u001b[0;32m    245\u001b[0m     )\n\u001b[0;32m    247\u001b[0m \u001b[39mif\u001b[39;00m local_dir \u001b[39mis\u001b[39;00m \u001b[39mnot\u001b[39;00m \u001b[39mNone\u001b[39;00m:\n\u001b[0;32m    248\u001b[0m     \u001b[39mreturn\u001b[39;00m \u001b[39mstr\u001b[39m(os\u001b[39m.\u001b[39mpath\u001b[39m.\u001b[39mrealpath(local_dir))\n",
      "File \u001b[1;32md:\\Anaconda3\\envs\\pytorch\\lib\\site-packages\\tqdm\\contrib\\concurrent.py:69\u001b[0m, in \u001b[0;36mthread_map\u001b[1;34m(fn, *iterables, **tqdm_kwargs)\u001b[0m\n\u001b[0;32m     55\u001b[0m \u001b[39m\u001b[39m\u001b[39m\"\"\"\u001b[39;00m\n\u001b[0;32m     56\u001b[0m \u001b[39mEquivalent of `list(map(fn, *iterables))`\u001b[39;00m\n\u001b[0;32m     57\u001b[0m \u001b[39mdriven by `concurrent.futures.ThreadPoolExecutor`.\u001b[39;00m\n\u001b[1;32m   (...)\u001b[0m\n\u001b[0;32m     66\u001b[0m \u001b[39m    [default: max(32, cpu_count() + 4)].\u001b[39;00m\n\u001b[0;32m     67\u001b[0m \u001b[39m\"\"\"\u001b[39;00m\n\u001b[0;32m     68\u001b[0m \u001b[39mfrom\u001b[39;00m \u001b[39mconcurrent\u001b[39;00m\u001b[39m.\u001b[39;00m\u001b[39mfutures\u001b[39;00m \u001b[39mimport\u001b[39;00m ThreadPoolExecutor\n\u001b[1;32m---> 69\u001b[0m \u001b[39mreturn\u001b[39;00m _executor_map(ThreadPoolExecutor, fn, \u001b[39m*\u001b[39miterables, \u001b[39m*\u001b[39m\u001b[39m*\u001b[39mtqdm_kwargs)\n",
      "File \u001b[1;32md:\\Anaconda3\\envs\\pytorch\\lib\\site-packages\\tqdm\\contrib\\concurrent.py:51\u001b[0m, in \u001b[0;36m_executor_map\u001b[1;34m(PoolExecutor, fn, *iterables, **tqdm_kwargs)\u001b[0m\n\u001b[0;32m     47\u001b[0m \u001b[39mwith\u001b[39;00m ensure_lock(tqdm_class, lock_name\u001b[39m=\u001b[39mlock_name) \u001b[39mas\u001b[39;00m lk:\n\u001b[0;32m     48\u001b[0m     \u001b[39m# share lock in case workers are already using `tqdm`\u001b[39;00m\n\u001b[0;32m     49\u001b[0m     \u001b[39mwith\u001b[39;00m PoolExecutor(max_workers\u001b[39m=\u001b[39mmax_workers, initializer\u001b[39m=\u001b[39mtqdm_class\u001b[39m.\u001b[39mset_lock,\n\u001b[0;32m     50\u001b[0m                       initargs\u001b[39m=\u001b[39m(lk,)) \u001b[39mas\u001b[39;00m ex:\n\u001b[1;32m---> 51\u001b[0m         \u001b[39mreturn\u001b[39;00m \u001b[39mlist\u001b[39;49m(tqdm_class(ex\u001b[39m.\u001b[39;49mmap(fn, \u001b[39m*\u001b[39;49miterables, chunksize\u001b[39m=\u001b[39;49mchunksize), \u001b[39m*\u001b[39;49m\u001b[39m*\u001b[39;49mkwargs))\n",
      "File \u001b[1;32md:\\Anaconda3\\envs\\pytorch\\lib\\site-packages\\tqdm\\notebook.py:249\u001b[0m, in \u001b[0;36mtqdm_notebook.__iter__\u001b[1;34m(self)\u001b[0m\n\u001b[0;32m    247\u001b[0m \u001b[39mtry\u001b[39;00m:\n\u001b[0;32m    248\u001b[0m     it \u001b[39m=\u001b[39m \u001b[39msuper\u001b[39m(tqdm_notebook, \u001b[39mself\u001b[39m)\u001b[39m.\u001b[39m\u001b[39m__iter__\u001b[39m()\n\u001b[1;32m--> 249\u001b[0m     \u001b[39mfor\u001b[39;00m obj \u001b[39min\u001b[39;00m it:\n\u001b[0;32m    250\u001b[0m         \u001b[39m# return super(tqdm...) will not catch exception\u001b[39;00m\n\u001b[0;32m    251\u001b[0m         \u001b[39myield\u001b[39;00m obj\n\u001b[0;32m    252\u001b[0m \u001b[39m# NB: except ... [ as ...] breaks IPython async KeyboardInterrupt\u001b[39;00m\n",
      "File \u001b[1;32md:\\Anaconda3\\envs\\pytorch\\lib\\site-packages\\tqdm\\std.py:1182\u001b[0m, in \u001b[0;36mtqdm.__iter__\u001b[1;34m(self)\u001b[0m\n\u001b[0;32m   1179\u001b[0m time \u001b[39m=\u001b[39m \u001b[39mself\u001b[39m\u001b[39m.\u001b[39m_time\n\u001b[0;32m   1181\u001b[0m \u001b[39mtry\u001b[39;00m:\n\u001b[1;32m-> 1182\u001b[0m     \u001b[39mfor\u001b[39;00m obj \u001b[39min\u001b[39;00m iterable:\n\u001b[0;32m   1183\u001b[0m         \u001b[39myield\u001b[39;00m obj\n\u001b[0;32m   1184\u001b[0m         \u001b[39m# Update and possibly print the progressbar.\u001b[39;00m\n\u001b[0;32m   1185\u001b[0m         \u001b[39m# Note: does not call self.update(1) for speed optimisation.\u001b[39;00m\n",
      "File \u001b[1;32md:\\Anaconda3\\envs\\pytorch\\lib\\concurrent\\futures\\_base.py:609\u001b[0m, in \u001b[0;36mExecutor.map.<locals>.result_iterator\u001b[1;34m()\u001b[0m\n\u001b[0;32m    606\u001b[0m \u001b[39mwhile\u001b[39;00m fs:\n\u001b[0;32m    607\u001b[0m     \u001b[39m# Careful not to keep a reference to the popped future\u001b[39;00m\n\u001b[0;32m    608\u001b[0m     \u001b[39mif\u001b[39;00m timeout \u001b[39mis\u001b[39;00m \u001b[39mNone\u001b[39;00m:\n\u001b[1;32m--> 609\u001b[0m         \u001b[39myield\u001b[39;00m fs\u001b[39m.\u001b[39;49mpop()\u001b[39m.\u001b[39;49mresult()\n\u001b[0;32m    610\u001b[0m     \u001b[39melse\u001b[39;00m:\n\u001b[0;32m    611\u001b[0m         \u001b[39myield\u001b[39;00m fs\u001b[39m.\u001b[39mpop()\u001b[39m.\u001b[39mresult(end_time \u001b[39m-\u001b[39m time\u001b[39m.\u001b[39mmonotonic())\n",
      "File \u001b[1;32md:\\Anaconda3\\envs\\pytorch\\lib\\concurrent\\futures\\_base.py:446\u001b[0m, in \u001b[0;36mFuture.result\u001b[1;34m(self, timeout)\u001b[0m\n\u001b[0;32m    444\u001b[0m     \u001b[39mraise\u001b[39;00m CancelledError()\n\u001b[0;32m    445\u001b[0m \u001b[39melif\u001b[39;00m \u001b[39mself\u001b[39m\u001b[39m.\u001b[39m_state \u001b[39m==\u001b[39m FINISHED:\n\u001b[1;32m--> 446\u001b[0m     \u001b[39mreturn\u001b[39;00m \u001b[39mself\u001b[39;49m\u001b[39m.\u001b[39;49m__get_result()\n\u001b[0;32m    447\u001b[0m \u001b[39melse\u001b[39;00m:\n\u001b[0;32m    448\u001b[0m     \u001b[39mraise\u001b[39;00m \u001b[39mTimeoutError\u001b[39;00m()\n",
      "File \u001b[1;32md:\\Anaconda3\\envs\\pytorch\\lib\\concurrent\\futures\\_base.py:391\u001b[0m, in \u001b[0;36mFuture.__get_result\u001b[1;34m(self)\u001b[0m\n\u001b[0;32m    389\u001b[0m \u001b[39mif\u001b[39;00m \u001b[39mself\u001b[39m\u001b[39m.\u001b[39m_exception:\n\u001b[0;32m    390\u001b[0m     \u001b[39mtry\u001b[39;00m:\n\u001b[1;32m--> 391\u001b[0m         \u001b[39mraise\u001b[39;00m \u001b[39mself\u001b[39m\u001b[39m.\u001b[39m_exception\n\u001b[0;32m    392\u001b[0m     \u001b[39mfinally\u001b[39;00m:\n\u001b[0;32m    393\u001b[0m         \u001b[39m# Break a reference cycle with the exception in self._exception\u001b[39;00m\n\u001b[0;32m    394\u001b[0m         \u001b[39mself\u001b[39m \u001b[39m=\u001b[39m \u001b[39mNone\u001b[39;00m\n",
      "File \u001b[1;32md:\\Anaconda3\\envs\\pytorch\\lib\\concurrent\\futures\\thread.py:58\u001b[0m, in \u001b[0;36m_WorkItem.run\u001b[1;34m(self)\u001b[0m\n\u001b[0;32m     55\u001b[0m     \u001b[39mreturn\u001b[39;00m\n\u001b[0;32m     57\u001b[0m \u001b[39mtry\u001b[39;00m:\n\u001b[1;32m---> 58\u001b[0m     result \u001b[39m=\u001b[39m \u001b[39mself\u001b[39m\u001b[39m.\u001b[39mfn(\u001b[39m*\u001b[39m\u001b[39mself\u001b[39m\u001b[39m.\u001b[39margs, \u001b[39m*\u001b[39m\u001b[39m*\u001b[39m\u001b[39mself\u001b[39m\u001b[39m.\u001b[39mkwargs)\n\u001b[0;32m     59\u001b[0m \u001b[39mexcept\u001b[39;00m \u001b[39mBaseException\u001b[39;00m \u001b[39mas\u001b[39;00m exc:\n\u001b[0;32m     60\u001b[0m     \u001b[39mself\u001b[39m\u001b[39m.\u001b[39mfuture\u001b[39m.\u001b[39mset_exception(exc)\n",
      "File \u001b[1;32md:\\Anaconda3\\envs\\pytorch\\lib\\site-packages\\huggingface_hub\\_snapshot_download.py:213\u001b[0m, in \u001b[0;36msnapshot_download.<locals>._inner_hf_hub_download\u001b[1;34m(repo_file)\u001b[0m\n\u001b[0;32m    212\u001b[0m \u001b[39mdef\u001b[39;00m \u001b[39m_inner_hf_hub_download\u001b[39m(repo_file: \u001b[39mstr\u001b[39m):\n\u001b[1;32m--> 213\u001b[0m     \u001b[39mreturn\u001b[39;00m hf_hub_download(\n\u001b[0;32m    214\u001b[0m         repo_id,\n\u001b[0;32m    215\u001b[0m         filename\u001b[39m=\u001b[39;49mrepo_file,\n\u001b[0;32m    216\u001b[0m         repo_type\u001b[39m=\u001b[39;49mrepo_type,\n\u001b[0;32m    217\u001b[0m         revision\u001b[39m=\u001b[39;49mcommit_hash,\n\u001b[0;32m    218\u001b[0m         endpoint\u001b[39m=\u001b[39;49mendpoint,\n\u001b[0;32m    219\u001b[0m         cache_dir\u001b[39m=\u001b[39;49mcache_dir,\n\u001b[0;32m    220\u001b[0m         local_dir\u001b[39m=\u001b[39;49mlocal_dir,\n\u001b[0;32m    221\u001b[0m         local_dir_use_symlinks\u001b[39m=\u001b[39;49mlocal_dir_use_symlinks,\n\u001b[0;32m    222\u001b[0m         library_name\u001b[39m=\u001b[39;49mlibrary_name,\n\u001b[0;32m    223\u001b[0m         library_version\u001b[39m=\u001b[39;49mlibrary_version,\n\u001b[0;32m    224\u001b[0m         user_agent\u001b[39m=\u001b[39;49muser_agent,\n\u001b[0;32m    225\u001b[0m         proxies\u001b[39m=\u001b[39;49mproxies,\n\u001b[0;32m    226\u001b[0m         etag_timeout\u001b[39m=\u001b[39;49metag_timeout,\n\u001b[0;32m    227\u001b[0m         resume_download\u001b[39m=\u001b[39;49mresume_download,\n\u001b[0;32m    228\u001b[0m         force_download\u001b[39m=\u001b[39;49mforce_download,\n\u001b[0;32m    229\u001b[0m         token\u001b[39m=\u001b[39;49mtoken,\n\u001b[0;32m    230\u001b[0m     )\n",
      "File \u001b[1;32md:\\Anaconda3\\envs\\pytorch\\lib\\site-packages\\huggingface_hub\\utils\\_validators.py:118\u001b[0m, in \u001b[0;36mvalidate_hf_hub_args.<locals>._inner_fn\u001b[1;34m(*args, **kwargs)\u001b[0m\n\u001b[0;32m    115\u001b[0m \u001b[39mif\u001b[39;00m check_use_auth_token:\n\u001b[0;32m    116\u001b[0m     kwargs \u001b[39m=\u001b[39m smoothly_deprecate_use_auth_token(fn_name\u001b[39m=\u001b[39mfn\u001b[39m.\u001b[39m\u001b[39m__name__\u001b[39m, has_token\u001b[39m=\u001b[39mhas_token, kwargs\u001b[39m=\u001b[39mkwargs)\n\u001b[1;32m--> 118\u001b[0m \u001b[39mreturn\u001b[39;00m fn(\u001b[39m*\u001b[39margs, \u001b[39m*\u001b[39m\u001b[39m*\u001b[39mkwargs)\n",
      "File \u001b[1;32md:\\Anaconda3\\envs\\pytorch\\lib\\site-packages\\huggingface_hub\\file_download.py:1461\u001b[0m, in \u001b[0;36mhf_hub_download\u001b[1;34m(repo_id, filename, subfolder, repo_type, revision, library_name, library_version, cache_dir, local_dir, local_dir_use_symlinks, user_agent, force_download, force_filename, proxies, etag_timeout, resume_download, token, local_files_only, legacy_cache_layout, endpoint)\u001b[0m\n\u001b[0;32m   1458\u001b[0m         \u001b[39mif\u001b[39;00m local_dir \u001b[39mis\u001b[39;00m \u001b[39mnot\u001b[39;00m \u001b[39mNone\u001b[39;00m:\n\u001b[0;32m   1459\u001b[0m             _check_disk_space(expected_size, local_dir)\n\u001b[1;32m-> 1461\u001b[0m     http_get(\n\u001b[0;32m   1462\u001b[0m         url_to_download,\n\u001b[0;32m   1463\u001b[0m         temp_file,\n\u001b[0;32m   1464\u001b[0m         proxies\u001b[39m=\u001b[39;49mproxies,\n\u001b[0;32m   1465\u001b[0m         resume_size\u001b[39m=\u001b[39;49mresume_size,\n\u001b[0;32m   1466\u001b[0m         headers\u001b[39m=\u001b[39;49mheaders,\n\u001b[0;32m   1467\u001b[0m         expected_size\u001b[39m=\u001b[39;49mexpected_size,\n\u001b[0;32m   1468\u001b[0m     )\n\u001b[0;32m   1470\u001b[0m \u001b[39mif\u001b[39;00m local_dir \u001b[39mis\u001b[39;00m \u001b[39mNone\u001b[39;00m:\n\u001b[0;32m   1471\u001b[0m     logger\u001b[39m.\u001b[39mdebug(\u001b[39mf\u001b[39m\u001b[39m\"\u001b[39m\u001b[39mStoring \u001b[39m\u001b[39m{\u001b[39;00murl\u001b[39m}\u001b[39;00m\u001b[39m in cache at \u001b[39m\u001b[39m{\u001b[39;00mblob_path\u001b[39m}\u001b[39;00m\u001b[39m\"\u001b[39m)\n",
      "File \u001b[1;32md:\\Anaconda3\\envs\\pytorch\\lib\\site-packages\\huggingface_hub\\file_download.py:544\u001b[0m, in \u001b[0;36mhttp_get\u001b[1;34m(url, temp_file, proxies, resume_size, headers, expected_size, _nb_retries)\u001b[0m\n\u001b[0;32m    542\u001b[0m \u001b[39mif\u001b[39;00m chunk:  \u001b[39m# filter out keep-alive new chunks\u001b[39;00m\n\u001b[0;32m    543\u001b[0m     progress\u001b[39m.\u001b[39mupdate(\u001b[39mlen\u001b[39m(chunk))\n\u001b[1;32m--> 544\u001b[0m     temp_file\u001b[39m.\u001b[39;49mwrite(chunk)\n\u001b[0;32m    545\u001b[0m     new_resume_size \u001b[39m+\u001b[39m\u001b[39m=\u001b[39m \u001b[39mlen\u001b[39m(chunk)\n\u001b[0;32m    546\u001b[0m     \u001b[39m# Some data has been downloaded from the server so we reset the number of retries.\u001b[39;00m\n",
      "File \u001b[1;32md:\\Anaconda3\\envs\\pytorch\\lib\\tempfile.py:478\u001b[0m, in \u001b[0;36m_TemporaryFileWrapper.__getattr__.<locals>.func_wrapper\u001b[1;34m(*args, **kwargs)\u001b[0m\n\u001b[0;32m    476\u001b[0m \u001b[39m@_functools\u001b[39m\u001b[39m.\u001b[39mwraps(func)\n\u001b[0;32m    477\u001b[0m \u001b[39mdef\u001b[39;00m \u001b[39mfunc_wrapper\u001b[39m(\u001b[39m*\u001b[39margs, \u001b[39m*\u001b[39m\u001b[39m*\u001b[39mkwargs):\n\u001b[1;32m--> 478\u001b[0m     \u001b[39mreturn\u001b[39;00m func(\u001b[39m*\u001b[39margs, \u001b[39m*\u001b[39m\u001b[39m*\u001b[39mkwargs)\n",
      "\u001b[1;31mOSError\u001b[0m: [Errno 28] No space left on device"
     ]
    }
   ],
   "source": [
    "from diffusers import StableDiffusionPipeline\n",
    "import torch\n",
    "\n",
    "model_id = \"runwayml/stable-diffusion-v1-5\"\n",
    "pipe = StableDiffusionPipeline.from_pretrained(model_id, torch_dtype=torch.float16)\n",
    "pipe = pipe.to(\"cuda\")\n",
    "\n",
    "prompt = \"a photo of an astronaut riding a horse on mars\"\n",
    "image = pipe(prompt).images[0]  \n",
    "    \n",
    "image.save(\"astronaut_rides_horse.png\")\n"
   ]
  }
 ],
 "metadata": {
  "kernelspec": {
   "display_name": "pytorch",
   "language": "python",
   "name": "python3"
  },
  "language_info": {
   "codemirror_mode": {
    "name": "ipython",
    "version": 3
   },
   "file_extension": ".py",
   "mimetype": "text/x-python",
   "name": "python",
   "nbconvert_exporter": "python",
   "pygments_lexer": "ipython3",
   "version": "3.9.16"
  }
 },
 "nbformat": 4,
 "nbformat_minor": 2
}
