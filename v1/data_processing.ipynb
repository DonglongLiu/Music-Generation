{
 "cells": [
  {
   "cell_type": "code",
   "execution_count": 1,
   "metadata": {},
   "outputs": [],
   "source": [
    "import os\n",
    "import matplotlib.pyplot as plt "
   ]
  },
  {
   "cell_type": "code",
   "execution_count": 6,
   "metadata": {},
   "outputs": [
    {
     "data": {
      "text/plain": [
       "841"
      ]
     },
     "execution_count": 6,
     "metadata": {},
     "output_type": "execute_result"
    }
   ],
   "source": [
    "song_names = [i[:-4] for i in os.listdir('../reproduction/conditional_diffusion/data/iComposer_data/dataset/lyrics_duration/')]\n",
    "len(song_names)"
   ]
  },
  {
   "cell_type": "code",
   "execution_count": 3,
   "metadata": {},
   "outputs": [
    {
     "data": {
      "text/plain": [
       "(50, 50, 50, 50)"
      ]
     },
     "execution_count": 3,
     "metadata": {},
     "output_type": "execute_result"
    }
   ],
   "source": [
    "lyrics_prefix = '../reproduction/conditional_diffusion/data/iComposer_data/dataset/lyrics_duration/'\n",
    "durations_prefix = '../reproduction/conditional_diffusion/data/iComposer_data/dataset/lyrics_duration/'\n",
    "pitches_prefix = '../reproduction/conditional_diffusion/data/iComposer_data/dataset/lyrics_note/'\n",
    "\n",
    "name_features = {name: {'lyrics':None, 'pitches':None, 'durations': None} for name in song_names[:50]} # 歌曲名：[lyrics], [pitch], [duration]\n",
    "lyrics_50 = [] # [[[第一首歌曲第一句], [第一首歌曲第二句], ...], [[第二首歌曲第一句], [第二首歌曲第二句]...]...]\n",
    "pitches_50 = []\n",
    "durations_50 = []\n",
    "\n",
    "for id_song in range(50):\n",
    "    cur_name = song_names[id_song]\n",
    "    with open(lyrics_prefix + cur_name + '.txt', 'r') as f:\n",
    "        \n",
    "        #lyrics\n",
    "        lines = [i for i in f.read().split('\\n') if i !=''] # 奇数序列是duration，偶数序列是汉字\n",
    "        lyrics = [value.rstrip().replace('\\u3000', '').split(' ') for i, value in enumerate(lines) if i % 2 == 0] # 歌词之间的空格去掉\n",
    "        lyrics_50.append(lyrics) # 存入歌词句子组成的列表\n",
    "        name_features[cur_name]['lyrics'] = lyrics\n",
    "    \n",
    "    # try:\n",
    "        # durations\n",
    "        # print(lines)\n",
    "        durations = [[float(j) for j in value.rstrip().replace('\\u3000', '').split(' ') if j != ''] for i, value in enumerate(lines) if i % 2 != 0] # duration float format\n",
    "        durations_50.append(durations)\n",
    "        name_features[cur_name]['durations'] = durations\n",
    "    # except Exception as e:\n",
    "    #     print(e)\n",
    "    #     print(lines)\n",
    "    #     break\n",
    "\n",
    "    with open(pitches_prefix + cur_name + '.txt', 'r') as f:\n",
    "        lines = [i for i in f.read().split('\\n') if i !=''] # 奇数序列是pitch，偶数序列是汉字\n",
    "        pitches = [value.rstrip().replace('\\u3000', '').split(' ') for i, value in enumerate(lines) if i % 2 != 0]  # pitch float format\n",
    "        # 因为pitch存在一个字对应多个pitch的情况，所以取均值\n",
    "        for i in range(len(pitches)):\n",
    "            for j in range(len(pitches[i])):\n",
    "                lst = pitches[i][j].split(',')\n",
    "                pitches[i][j] = sum([float(v) for v in lst]) / len(lst)\n",
    "                \n",
    "        pitches_50.append(pitches) # 存入歌词句子组成的列表\n",
    "        name_features[cur_name]['pitches'] = pitches\n",
    "    \n",
    "        \n",
    "len(name_features), len(lyrics_50), len(pitches_50), len(durations_50)"
   ]
  },
  {
   "cell_type": "code",
   "execution_count": 4,
   "metadata": {},
   "outputs": [
    {
     "name": "stdout",
     "output_type": "stream",
     "text": [
      "上弦月\n"
     ]
    }
   ],
   "source": [
    "# 只保留句子长度在三个元素上对应相等的句子\n",
    "name_features_equal = {name: {'lyrics':[], 'pitches':[], 'durations': []} for name in song_names[:50]} \n",
    "lyrics_50_equal = [] # [[[第一首歌曲第一句], [第一首歌曲第二句], ...], [[第二首歌曲第一句], [第二首歌曲第二句]...]...]\n",
    "pitches_50_equal = []\n",
    "durations_50_equal = []\n",
    "\n",
    "# 检查字、pitch、duration每个句子所含元素数目是否相同，所含句子数目是否相同，并且记录句长分布\n",
    "song_lengths = []\n",
    "length_records = []\n",
    "delete_count = 0\n",
    "for i in name_features:\n",
    "    if len(name_features[i]['lyrics']) == len(name_features[i]['pitches']) and \\\n",
    "        len(name_features[i]['durations']) == len(name_features[i]['pitches']):\n",
    "            song_lengths.append(len(name_features[i]['durations']))\n",
    "            cur_l = []\n",
    "            cur_d = []\n",
    "            cur_p = []\n",
    "            for j in range(len(name_features[i]['lyrics'])):\n",
    "                if (len(name_features[i]['lyrics'][j]) == len(name_features[i]['pitches'][j]) and \\\n",
    "                        len(name_features[i]['durations'][j]) == len(name_features[i]['pitches'][j])) :\n",
    "                    cur_l.append(name_features[i]['lyrics'][j])\n",
    "                    cur_p.append(name_features[i]['pitches'][j])\n",
    "                    cur_d.append(name_features[i]['durations'][j])\n",
    "                    name_features_equal[i]['lyrics'].append(name_features[i]['lyrics'][j])\n",
    "                    name_features_equal[i]['pitches'].append(name_features[i]['pitches'][j])\n",
    "                    name_features_equal[i]['durations'].append(name_features[i]['durations'][j])\n",
    "                else:\n",
    "                    delete_count += 1\n",
    "                length_records.append(len(name_features[i]['durations'][j]))\n",
    "            lyrics_50_equal.append(cur_l)\n",
    "            durations_50_equal.append(cur_d)\n",
    "            pitches_50_equal.append(cur_p)\n",
    "    else:\n",
    "        print(i)"
   ]
  },
  {
   "cell_type": "code",
   "execution_count": 5,
   "metadata": {},
   "outputs": [
    {
     "data": {
      "text/plain": [
       "(36, 1351, 49)"
      ]
     },
     "execution_count": 5,
     "metadata": {},
     "output_type": "execute_result"
    }
   ],
   "source": [
    "delete_count,len(length_records),len(song_lengths)"
   ]
  },
  {
   "cell_type": "code",
   "execution_count": 6,
   "metadata": {},
   "outputs": [
    {
     "data": {
      "image/png": "[encoded data removed]",
      "text/plain": [
       "<Figure size 640x480 with 1 Axes>"
      ]
     },
     "metadata": {},
     "output_type": "display_data"
    }
   ],
   "source": [
    "n, bins,_ = plt.hist(length_records, bins=100)\n",
    "for i in range(len(n)):\n",
    "    plt.text(bins[i]+(bins[1]-bins[0])/2, n[i]*1.01, int(n[i]), ha='center', va= 'bottom')"
   ]
  },
  {
   "cell_type": "code",
   "execution_count": 7,
   "metadata": {},
   "outputs": [
    {
     "data": {
      "image/png": "[encoded data removed]",
      "text/plain": [
       "<Figure size 640x480 with 1 Axes>"
      ]
     },
     "metadata": {},
     "output_type": "display_data"
    }
   ],
   "source": [
    "n, bins,_ = plt.hist(song_lengths, bins=100)\n",
    "for i in range(len(n)):\n",
    "    if n[i] > 0:\n",
    "        plt.text(bins[i]+(bins[1]-bins[0])/2, n[i]*1.01, int(n[i]), ha='center', va='bottom')"
   ]
  },
  {
   "cell_type": "code",
   "execution_count": 8,
   "metadata": {},
   "outputs": [],
   "source": [
    "def process_strings(input_list):\n",
    "    result_list = []\n",
    "\n",
    "    for sublist in input_list:\n",
    "        sentence = \"\"\n",
    "        for i, s in enumerate(sublist):\n",
    "            if i > 0:\n",
    "                # 如果前一个字符串是中文，当前字符串是英文，加一个空格\n",
    "                if sublist[i-1].encode(\"utf-8\").isalpha() and s.encode(\"utf-8\").isalpha():\n",
    "                    sentence += \" \"\n",
    "            sentence += s\n",
    "\n",
    "        result_list.append(sentence)\n",
    "\n",
    "    return result_list"
   ]
  },
  {
   "cell_type": "code",
   "execution_count": 9,
   "metadata": {},
   "outputs": [],
   "source": [
    "import copy\n",
    "\n",
    "# 把所有的pitch和duration进行PAD操作，lyrics每一行进行联合\n",
    "max_legnth = max(length_records)\n",
    "PAD = 0\n",
    "pitches_PAD = []\n",
    "duration_PAD = []\n",
    "lyrics_all = []\n",
    "\n",
    "for i in range(49):\n",
    "    for j in range(len(lyrics_50_equal[i])):\n",
    "        ori_pitches = copy.deepcopy(pitches_50_equal[i][j])\n",
    "        ori_durations = copy.deepcopy(durations_50_equal[i][j])\n",
    "        while len(ori_pitches) < max_legnth:\n",
    "            ori_pitches.append(PAD)\n",
    "            ori_durations.append(PAD)\n",
    "        assert len(ori_pitches) == len(ori_durations) ,(i,j)\n",
    "        lyrics_all.append(lyrics_50_equal[i][j])\n",
    "        pitches_PAD.append(ori_pitches)\n",
    "        duration_PAD.append(ori_durations)\n",
    "lyrics_all = process_strings(lyrics_all)"
   ]
  },
  {
   "cell_type": "code",
   "execution_count": 10,
   "metadata": {},
   "outputs": [
    {
     "data": {
      "text/plain": [
       "(1315, 1315, 1315)"
      ]
     },
     "execution_count": 10,
     "metadata": {},
     "output_type": "execute_result"
    }
   ],
   "source": [
    "len(pitches_PAD),len(duration_PAD), len(lyrics_all)"
   ]
  },
  {
   "cell_type": "code",
   "execution_count": 13,
   "metadata": {},
   "outputs": [],
   "source": [
    "import json\n",
    "\n",
    "with open('./data_test_49/name_features_equal.dict', 'w') as f:\n",
    "    f.write(json.dumps(name_features_equal))\n",
    "with open('./data_test_49/pitches_PAD_equal_1315.lst', 'w') as f:\n",
    "    f.write(json.dumps(pitches_PAD))\n",
    "with open('./data_test_49/durations_PAD_equal_1315.lst', 'w') as f:\n",
    "    f.write(json.dumps(duration_PAD))\n",
    "with open('./data_test_49/lyrics_equal_1315.lst', 'w') as f:\n",
    "    f.write(json.dumps(lyrics_all))"
   ]
  },
  {
   "cell_type": "code",
   "execution_count": 12,
   "metadata": {},
   "outputs": [
    {
     "data": {
      "text/plain": [
       "(61, 61, 61)"
      ]
     },
     "execution_count": 12,
     "metadata": {},
     "output_type": "execute_result"
    }
   ],
   "source": [
    "import copy\n",
    "# 生成用来测模型的train data\n",
    "max_legnth = max(length_records)\n",
    "PAD = 0\n",
    "pitches_PAD = []\n",
    "duration_PAD = []\n",
    "lyrics_all = []\n",
    "\n",
    "for i in range(1):\n",
    "    for j in range(len(lyrics_50_equal[i])):\n",
    "        ori_pitches = copy.deepcopy(pitches_50_equal[i][j])\n",
    "        ori_durations = copy.deepcopy(durations_50_equal[i][j])\n",
    "        while len(ori_pitches) < max_legnth:\n",
    "            ori_pitches.append(PAD)\n",
    "            ori_durations.append(PAD)\n",
    "        assert len(ori_pitches) == len(ori_durations) ,(i,j)\n",
    "        lyrics_all.append(lyrics_50_equal[i][j])\n",
    "        pitches_PAD.append(ori_pitches)\n",
    "        duration_PAD.append(ori_durations)\n",
    "lyrics_all = process_strings(lyrics_all)\n",
    "len(pitches_PAD),len(duration_PAD), len(lyrics_all)"
   ]
  },
  {
   "cell_type": "code",
   "execution_count": 18,
   "metadata": {},
   "outputs": [],
   "source": [
    "import json\n",
    "\n",
    "with open('./data_test_1/name_features_equal.dict', 'w') as f:\n",
    "    f.write(json.dumps(name_features_equal))\n",
    "with open('./data_test_1/pitches_PAD_equal_61.lst', 'w') as f:\n",
    "    f.write(json.dumps(pitches_PAD))\n",
    "with open('./data_test_1/durations_PAD_equal_61.lst', 'w') as f:\n",
    "    f.write(json.dumps(duration_PAD))\n",
    "with open('./data_test_1/lyrics_equal_61.lst', 'w') as f:\n",
    "    f.write(json.dumps(lyrics_all))"
   ]
  },
  {
   "cell_type": "code",
   "execution_count": 13,
   "metadata": {},
   "outputs": [
    {
     "data": {
      "text/plain": [
       "(55, 55, 55)"
      ]
     },
     "execution_count": 13,
     "metadata": {},
     "output_type": "execute_result"
    }
   ],
   "source": [
    "import copy\n",
    "# 生成用来测模型的test data\n",
    "max_legnth = max(length_records)\n",
    "PAD = 0\n",
    "pitches_PAD = []\n",
    "duration_PAD = []\n",
    "lyrics_all = []\n",
    "\n",
    "for i in range(1,2):\n",
    "    for j in range(len(lyrics_50_equal[i])):\n",
    "        ori_pitches = copy.deepcopy(pitches_50_equal[i][j])\n",
    "        ori_durations = copy.deepcopy(durations_50_equal[i][j])\n",
    "        while len(ori_pitches) < max_legnth:\n",
    "            ori_pitches.append(PAD)\n",
    "            ori_durations.append(PAD)\n",
    "        assert len(ori_pitches) == len(ori_durations) ,(i,j)\n",
    "        lyrics_all.append(lyrics_50_equal[i][j])\n",
    "        pitches_PAD.append(ori_pitches)\n",
    "        duration_PAD.append(ori_durations)\n",
    "lyrics_all = process_strings(lyrics_all)\n",
    "len(pitches_PAD),len(duration_PAD), len(lyrics_all)"
   ]
  },
  {
   "cell_type": "code",
   "execution_count": 14,
   "metadata": {},
   "outputs": [],
   "source": [
    "import json\n",
    "\n",
    "with open('./data_test_1/test_model/name_features_equal.dict', 'w') as f:\n",
    "    f.write(json.dumps(name_features_equal))\n",
    "with open('./data_test_1/test_model/pitches_PAD_equal_55.lst', 'w') as f:\n",
    "    f.write(json.dumps(pitches_PAD))\n",
    "with open('./data_test_1/test_model/durations_PAD_equal_55.lst', 'w') as f:\n",
    "    f.write(json.dumps(duration_PAD))\n",
    "with open('./data_test_1/test_model/lyrics_equal_55.lst', 'w') as f:\n",
    "    f.write(json.dumps(lyrics_all))"
   ]
  },
  {
   "cell_type": "code",
   "execution_count": 7,
   "metadata": {},
   "outputs": [
    {
     "name": "stdout",
     "output_type": "stream",
     "text": [
      "[Errno 2] No such file or directory: '../reproduction/conditional_diffusion/data/iComposer_data/dataset/lyrics_note/但願人長久.txt' 但願人長久\n",
      "[Errno 2] No such file or directory: '../reproduction/conditional_diffusion/data/iComposer_data/dataset/lyrics_note/健康歌.txt' 健康歌\n",
      "[Errno 2] No such file or directory: '../reproduction/conditional_diffusion/data/iComposer_data/dataset/lyrics_note/分享.txt' 分享\n",
      "[Errno 2] No such file or directory: '../reproduction/conditional_diffusion/data/iComposer_data/dataset/lyrics_note/分手快樂.txt' 分手快樂\n",
      "could not convert string to float: '0.20.5' 勇氣\n",
      "[Errno 2] No such file or directory: '../reproduction/conditional_diffusion/data/iComposer_data/dataset/lyrics_note/天才白癡往日情.txt' 天才白癡往日情\n",
      "[Errno 2] No such file or directory: '../reproduction/conditional_diffusion/data/iComposer_data/dataset/lyrics_note/天黑黑.txt' 天黑黑\n",
      "[Errno 2] No such file or directory: '../reproduction/conditional_diffusion/data/iComposer_data/dataset/lyrics_note/安靜.txt' 安靜\n",
      "[Errno 2] No such file or directory: '../reproduction/conditional_diffusion/data/iComposer_data/dataset/lyrics_note/我會繼續想你.txt' 我會繼續想你\n",
      "[Errno 2] No such file or directory: '../reproduction/conditional_diffusion/data/iComposer_data/dataset/lyrics_note/我願意.txt' 我願意\n",
      "[Errno 2] No such file or directory: '../reproduction/conditional_diffusion/data/iComposer_data/dataset/lyrics_note/痛愛.txt' 痛愛\n"
     ]
    },
    {
     "data": {
      "text/plain": [
       "(841, 841, 830, 840)"
      ]
     },
     "execution_count": 7,
     "metadata": {},
     "output_type": "execute_result"
    }
   ],
   "source": [
    "# 看一下所有歌曲duration的分布情况\n",
    "lyrics_prefix = '../reproduction/conditional_diffusion/data/iComposer_data/dataset/lyrics_duration/'\n",
    "durations_prefix = '../reproduction/conditional_diffusion/data/iComposer_data/dataset/lyrics_duration/'\n",
    "pitches_prefix = '../reproduction/conditional_diffusion/data/iComposer_data/dataset/lyrics_note/'\n",
    "\n",
    "name_features = {name: {'lyrics':None, 'pitches':None, 'durations': None} for name in song_names} # 歌曲名：[lyrics], [pitch], [duration]\n",
    "lyrics_all = [] # [[[第一首歌曲第一句], [第一首歌曲第二句], ...], [[第二首歌曲第一句], [第二首歌曲第二句]...]...]\n",
    "pitches_all = []\n",
    "durations_all = []\n",
    "\n",
    "for id_song in range(len(name_features)):\n",
    "    try:\n",
    "        cur_name = song_names[id_song]\n",
    "        \n",
    "        with open(lyrics_prefix + cur_name + '.txt', 'r') as f:\n",
    "            \n",
    "            #lyrics\n",
    "            lines = [i for i in f.read().split('\\n') if i !=''] # 奇数序列是duration，偶数序列是汉字\n",
    "            lyrics = [value.rstrip().replace('\\u3000', '').split(' ') for i, value in enumerate(lines) if i % 2 == 0] # 歌词之间的空格去掉\n",
    "            lyrics_all.append(lyrics) # 存入歌词句子组成的列表\n",
    "            name_features[cur_name]['lyrics'] = lyrics\n",
    "        \n",
    "        # try:\n",
    "            # durations\n",
    "            # print(lines)\n",
    "            durations = [[float(j) for j in value.rstrip().replace('\\u3000', '').split(' ') if j != ''] for i, value in enumerate(lines) if i % 2 != 0] # duration float format\n",
    "            durations_all.append(durations)\n",
    "            name_features[cur_name]['durations'] = durations\n",
    "        # except Exception as e:\n",
    "        #     print(e)\n",
    "        #     print(lines)\n",
    "        #     break\n",
    "\n",
    "        with open(pitches_prefix + cur_name + '.txt', 'r') as f:\n",
    "            lines = [i for i in f.read().split('\\n') if i !=''] # 奇数序列是pitch，偶数序列是汉字\n",
    "            pitches = [value.rstrip().replace('\\u3000', '').split(' ') for i, value in enumerate(lines) if i % 2 != 0]  # pitch float format\n",
    "            # 因为pitch存在一个字对应多个pitch的情况，所以取均值\n",
    "            for i in range(len(pitches)):\n",
    "                for j in range(len(pitches[i])):\n",
    "                    lst = pitches[i][j].split(',')\n",
    "                    pitches[i][j] = sum([float(v) for v in lst]) / len(lst)\n",
    "                    \n",
    "            pitches_all.append(pitches) # 存入歌词句子组成的列表\n",
    "            name_features[cur_name]['pitches'] = pitches\n",
    "    except Exception as e:\n",
    "        print(e, cur_name)\n",
    "        continue\n",
    "        \n",
    "len(name_features), len(lyrics_all), len(pitches_all), len(durations_all)"
   ]
  },
  {
   "cell_type": "code",
   "execution_count": 8,
   "metadata": {},
   "outputs": [
    {
     "data": {
      "text/plain": [
       "(48, 0)"
      ]
     },
     "execution_count": 8,
     "metadata": {},
     "output_type": "execute_result"
    }
   ],
   "source": [
    "duration_set = []\n",
    "\n",
    "for i in durations_all:\n",
    "    for j in i:\n",
    "        for k in j:\n",
    "            duration_set.append(k)\n",
    "len(set(duration_set)), len([])"
   ]
  },
  {
   "cell_type": "code",
   "execution_count": 21,
   "metadata": {},
   "outputs": [
    {
     "data": {
      "image/png": "[encoded data removed]",
      "text/plain": [
       "<Figure size 640x480 with 1 Axes>"
      ]
     },
     "metadata": {},
     "output_type": "display_data"
    },
    {
     "data": {
      "text/plain": [
       "<Figure size 2000x1000 with 0 Axes>"
      ]
     },
     "metadata": {},
     "output_type": "display_data"
    }
   ],
   "source": [
    "import matplotlib\n",
    "\n",
    "n, bins,_ = plt.hist(duration_set,bins=15)\n",
    "for i in range(len(n)):\n",
    "    if n[i] > 0:\n",
    "        plt.text(bins[i]+(bins[1]-bins[0])/2, n[i]*1.01, int(n[i]), ha='center', va='bottom')\n",
    "plt.xlabel('duration')\n",
    "plt.ylabel('count')\n",
    "plt.title('所有歌曲的duration频数直方图')\n",
    "matplotlib.rc(\"font\",family='FangSong')\n",
    "plt.figure(figsize=(20,10))\n",
    "plt.show()"
   ]
  },
  {
   "cell_type": "code",
   "execution_count": 20,
   "metadata": {},
   "outputs": [
    {
     "name": "stdout",
     "output_type": "stream",
     "text": [
      "0.0 428\t0.1 5982\t0.2 46756\t0.25 20\t0.3 28847\t0.4 28379\t0.5 14252\t0.6 6756\t0.7 3999\t0.75 6\t0.8\n",
      "0.9 2842\t1.0 1972\t1.1 1456\t1.2 1532\t1.3 1671\t1.4 735\t1.5 1264\t1.6 367\t1.7 551\t1.75\n",
      "1.8 470\t1.9 205\t2.0 366\t2.1 249\t2.2 214\t2.3 497\t2.4 208\t2.5 106\t2.6 175\t2.7\n",
      "2.8 94\t2.9 51\t3.0 184\t3.1 21\t3.2 103\t3.3 37\t3.4 303\t3.5 40\t3.6 50\t3.64\n",
      "3.8 2\t3.9 4\t4.0 33\t4.1 6\t4.6 2\t5.3 136\t5.9 1\t"
     ]
    }
   ],
   "source": [
    "for id, number in enumerate(sorted(list(set(duration_set)))):\n",
    "    if id == 0 or id % 10 != 0:\n",
    "        print(number, duration_set.count(number), end='\\t')\n",
    "    else:\n",
    "        print(number)"
   ]
  },
  {
   "cell_type": "code",
   "execution_count": 24,
   "metadata": {},
   "outputs": [
    {
     "name": "stdout",
     "output_type": "stream",
     "text": [
      "4.1\n",
      "4.6\n",
      "0.25\n",
      "0.75\n",
      "1.75\n",
      "1.1\n",
      "2.2\n",
      "2.3\n",
      "3.64\n"
     ]
    },
    {
     "data": {
      "text/plain": [
       "0.09999999999999998"
      ]
     },
     "execution_count": 24,
     "metadata": {},
     "output_type": "execute_result"
    }
   ],
   "source": [
    "for i in set(duration_set):\n",
    "    if i * 100 % 10 != 0:\n",
    "        print(i)\n",
    "0.5 % 0.1"
   ]
  },
  {
   "cell_type": "code",
   "execution_count": 29,
   "metadata": {},
   "outputs": [
    {
     "data": {
      "text/plain": [
       "{0.0: 1.0,\n",
       " 0.1: 2.0,\n",
       " 0.2: 3.0,\n",
       " 0.25: 4.0,\n",
       " 0.3: 5.0,\n",
       " 0.4: 6.0,\n",
       " 0.5: 7.0,\n",
       " 0.6: 8.0,\n",
       " 0.7: 9.0,\n",
       " 0.75: 10.0,\n",
       " 0.8: 11.0,\n",
       " 0.9: 12.0,\n",
       " 1.0: 13.0,\n",
       " 1.1: 14.0,\n",
       " 1.2: 15.0,\n",
       " 1.3: 16.0,\n",
       " 1.4: 17.0,\n",
       " 1.5: 18.0,\n",
       " 1.6: 19.0,\n",
       " 1.7: 20.0,\n",
       " 1.75: 21.0,\n",
       " 1.8: 22.0,\n",
       " 1.9: 23.0,\n",
       " 2.0: 24.0,\n",
       " 2.1: 25.0,\n",
       " 2.2: 26.0,\n",
       " 2.3: 27.0,\n",
       " 2.4: 28.0,\n",
       " 2.5: 29.0,\n",
       " 2.6: 30.0,\n",
       " 2.7: 31.0,\n",
       " 2.8: 32.0,\n",
       " 2.9: 33.0,\n",
       " 3.0: 34.0,\n",
       " 3.1: 35.0,\n",
       " 3.2: 36.0,\n",
       " 3.3: 37.0,\n",
       " 3.4: 38.0,\n",
       " 3.5: 39.0,\n",
       " 3.6: 40.0,\n",
       " 3.64: 41.0,\n",
       " 3.8: 42.0,\n",
       " 3.9: 43.0,\n",
       " 4.0: 44.0,\n",
       " 4.1: 45.0,\n",
       " 4.6: 46.0,\n",
       " 5.3: 47.0,\n",
       " 5.9: 48.0}"
      ]
     },
     "execution_count": 29,
     "metadata": {},
     "output_type": "execute_result"
    }
   ],
   "source": [
    "{float(number): float(id + 1) for id, number in enumerate(sorted(list(set(duration_set))))}"
   ]
  },
  {
   "cell_type": "code",
   "execution_count": 28,
   "metadata": {},
   "outputs": [],
   "source": [
    "import json\n",
    "with open('./duration_vocab.dict', 'w') as f:\n",
    "    f.write(json.dumps({float(number): float(id + 1) for id, number in enumerate(sorted(list(set(duration_set))))}))"
   ]
  }
 ],
 "metadata": {
  "kernelspec": {
   "display_name": "pytorch",
   "language": "python",
   "name": "python3"
  },
  "language_info": {
   "codemirror_mode": {
    "name": "ipython",
    "version": 3
   },
   "file_extension": ".py",
   "mimetype": "text/x-python",
   "name": "python",
   "nbconvert_exporter": "python",
   "pygments_lexer": "ipython3",
   "version": "3.9.16"
  }
 },
 "nbformat": 4,
 "nbformat_minor": 2
}
